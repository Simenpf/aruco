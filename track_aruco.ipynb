{
 "cells": [
  {
   "cell_type": "code",
   "execution_count": 7,
   "metadata": {},
   "outputs": [],
   "source": [
    "import cv2\n",
    "import pickle\n",
    "import numpy as np"
   ]
  },
  {
   "cell_type": "code",
   "execution_count": 8,
   "metadata": {},
   "outputs": [],
   "source": [
    "ESCAPE_KEY = 27\n",
    "SPACE_KEY = 32\n",
    "MARKER_SIZE = 0.05"
   ]
  },
  {
   "cell_type": "code",
   "execution_count": 9,
   "metadata": {},
   "outputs": [],
   "source": [
    "dictionary = cv2.aruco.getPredefinedDictionary(cv2.aruco.DICT_4X4_100)\n",
    "parameters = cv2.aruco.DetectorParameters()\n",
    "detector = cv2.aruco.ArucoDetector(dictionary, parameters)\n",
    "\n",
    "with open(\"calibration_parameters.pickle\", 'rb') as file:\n",
    "    calib_params = pickle.load(file)"
   ]
  },
  {
   "cell_type": "code",
   "execution_count": 10,
   "metadata": {},
   "outputs": [],
   "source": [
    "def track_aruco(frame):\n",
    "    obj_points = np.array([[-MARKER_SIZE / 2, MARKER_SIZE / 2, 0],\n",
    "                       [MARKER_SIZE / 2, MARKER_SIZE / 2, 0],\n",
    "                       [MARKER_SIZE / 2, -MARKER_SIZE / 2, 0],\n",
    "                       [-MARKER_SIZE / 2, -MARKER_SIZE / 2, 0]], dtype=np.float32)\n",
    "\n",
    "    corners, ids, rejected_img_points = detector.detectMarkers(frame)\n",
    "    cv2.aruco.drawDetectedMarkers(frame, corners, ids)\n",
    "    for i in range(len(corners)):\n",
    "        _, rvecs, tvecs = cv2.solvePnP(obj_points, corners[i], calib_params['mtx'], calib_params['dist'])\n",
    "        cv2.drawFrameAxes(frame, calib_params['mtx'], calib_params['dist'], rvecs, tvecs, MARKER_SIZE * .5, 2)\n",
    "        distance = np.linalg.norm(tvecs)\n",
    "        image = cv2.putText(frame, str(distance), (50,50), cv2.FONT_HERSHEY_SIMPLEX, 1, (255,0,0), 2, cv2.LINE_AA) \n",
    "        return (tvecs, rvecs)"
   ]
  },
  {
   "cell_type": "code",
   "execution_count": 11,
   "metadata": {},
   "outputs": [],
   "source": [
    "def track(vid):\n",
    "    home = None\n",
    "    while True:\n",
    "        ret, frame = vid.read()\n",
    "        \n",
    "        current_state = track_aruco(frame)\n",
    "        key = cv2.waitKey(3)\n",
    "        if key == ESCAPE_KEY:\n",
    "            break\n",
    "        if key == SPACE_KEY:\n",
    "            home = current_state\n",
    "        if home and current_state:\n",
    "            vec_to_home = np.transpose(home[1] - current_state[1])[0]\n",
    "            cv2.putText(frame, f\"X-axis: {round(vec_to_home[0]*100)}cm\", (50,100), cv2.FONT_HERSHEY_SIMPLEX, 1, (255,0,0), 2, cv2.LINE_AA) \n",
    "            cv2.putText(frame, f\"Y-axis: {round(vec_to_home[1]*100)}cm\", (50,150), cv2.FONT_HERSHEY_SIMPLEX, 1, (255,0,0), 2, cv2.LINE_AA) \n",
    "            cv2.putText(frame, f\"Z-axis: {round(vec_to_home[2]*100)}cm\", (50,200), cv2.FONT_HERSHEY_SIMPLEX, 1, (255,0,0), 2, cv2.LINE_AA) \n",
    "        cv2.imshow('frame', frame)\n",
    "\n",
    "        \n",
    "\n",
    "    \n",
    "    vid.release()\n",
    "    cv2.destroyAllWindows()"
   ]
  },
  {
   "cell_type": "code",
   "execution_count": 12,
   "metadata": {},
   "outputs": [],
   "source": [
    "# Get camera feed\n",
    "vid = cv2.VideoCapture(0) \n",
    "track(vid)"
   ]
  }
 ],
 "metadata": {
  "kernelspec": {
   "display_name": "aruco",
   "language": "python",
   "name": "python3"
  },
  "language_info": {
   "codemirror_mode": {
    "name": "ipython",
    "version": 3
   },
   "file_extension": ".py",
   "mimetype": "text/x-python",
   "name": "python",
   "nbconvert_exporter": "python",
   "pygments_lexer": "ipython3",
   "version": "3.11.8"
  }
 },
 "nbformat": 4,
 "nbformat_minor": 2
}
